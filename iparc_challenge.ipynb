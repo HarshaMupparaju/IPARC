{
  "metadata": {
    "kernelspec": {
      "language": "python",
      "display_name": "Python 3",
      "name": "python3"
    },
    "language_info": {
      "name": "python",
      "version": "3.7.12",
      "mimetype": "text/x-python",
      "codemirror_mode": {
        "name": "ipython",
        "version": 3
      },
      "pygments_lexer": "ipython3",
      "nbconvert_exporter": "python",
      "file_extension": ".py"
    },
    "colab": {
      "provenance": [],
      "include_colab_link": true
    },
    "accelerator": "GPU",
    "gpuClass": "standard"
  },
  "nbformat_minor": 0,
  "nbformat": 4,
  "cells": [
    {
      "cell_type": "markdown",
      "metadata": {
        "id": "view-in-github",
        "colab_type": "text"
      },
      "source": [
        "<a href=\"https://colab.research.google.com/github/HarshaMupparaju/IPARC/blob/main/iparc_challenge.ipynb\" target=\"_parent\"><img src=\"https://colab.research.google.com/assets/colab-badge.svg\" alt=\"Open In Colab\"/></a>"
      ]
    },
    {
      "cell_type": "code",
      "source": [
        "from google.colab import drive\n",
        "drive.mount('/content/gdrive')\n",
        "\n",
        "%cd gdrive/My Drive/ML project"
      ],
      "metadata": {
        "colab": {
          "base_uri": "https://localhost:8080/"
        },
        "id": "rlQRu2y9_i_u",
        "outputId": "ce2e00f9-9204-4113-b4b1-12c4258f4c13"
      },
      "execution_count": 33,
      "outputs": [
        {
          "output_type": "stream",
          "name": "stdout",
          "text": [
            "Drive already mounted at /content/gdrive; to attempt to forcibly remount, call drive.mount(\"/content/gdrive\", force_remount=True).\n",
            "[Errno 2] No such file or directory: 'gdrive/My Drive/ML project'\n",
            "/content/gdrive/My Drive/ML project\n"
          ]
        }
      ]
    },
    {
      "cell_type": "code",
      "source": [
        "import os\n",
        "from collections import Counter\n",
        "from torch.utils.data import Dataset, DataLoader\n",
        "import torch\n",
        "import numpy as np\n",
        "import matplotlib.pyplot as plt\n",
        "import json\n",
        "import torch.nn as nn\n",
        "import torch.nn.functional as F\n",
        "import torch.optim as optim\n",
        "from PIL import Image"
      ],
      "metadata": {
        "_uuid": "8f2839f25d086af736a60e9eeb907d3b93b6e0e5",
        "_cell_guid": "b1076dfc-b9ad-4769-8c92-a6c4dae69d19",
        "execution": {
          "iopub.status.busy": "2023-04-28T20:04:30.975328Z",
          "iopub.execute_input": "2023-04-28T20:04:30.976054Z",
          "iopub.status.idle": "2023-04-28T20:04:30.982218Z",
          "shell.execute_reply.started": "2023-04-28T20:04:30.976015Z",
          "shell.execute_reply": "2023-04-28T20:04:30.981102Z"
        },
        "trusted": true,
        "id": "pyWWbxsT-ICe"
      },
      "execution_count": 34,
      "outputs": []
    },
    {
      "cell_type": "code",
      "source": [
        "from scipy.ndimage import binary_dilation, binary_erosion\n",
        "import json\n",
        "import numpy as np\n",
        "import matplotlib.pyplot as plt\n",
        "import numpy as np\n",
        "from skimage.morphology import disk\n",
        "\n",
        "# Square\n",
        "SE1_3x3 = np.ones((3, 3), dtype=np.int32)\n",
        "SE1_5x5 = np.ones((5, 5), dtype=np.int32)\n",
        "\n",
        "# Disk\n",
        "SE2_3x3 = np.array(disk(1), dtype=np.int32)\n",
        "SE2_5x5 = np.array(disk(2), dtype=np.int32)\n",
        "\n",
        "# Cross\n",
        "SE3_3x3 = np.zeros((3, 3), dtype=np.int32)\n",
        "SE3_3x3[(0, 1, 2), (0, 1, 2)] = 1\n",
        "SE3_3x3[(0, 1, 2), (2, 1, 0)] = 1\n",
        "SE3_5x5 = np.zeros((5, 5), dtype=np.int32)\n",
        "SE3_5x5[(0, 1, 2, 3, 4), (0, 1, 2, 3, 4)] = 1\n",
        "SE3_5x5[(0, 1, 2, 3, 4), (4, 3, 2, 1, 0)] = 1\n",
        "\n",
        "# Plus\n",
        "SE4_3x3 = np.zeros((3, 3), dtype=np.int32)\n",
        "SE4_3x3[1, :] = 1\n",
        "SE4_3x3[:, 1] = 1\n",
        "SE4_5x5 = np.zeros((5, 5), dtype=np.int32)\n",
        "SE4_5x5[2, :] = 1\n",
        "SE4_5x5[:, 2] = 1\n",
        "\n",
        "# Rhombus\n",
        "SE5_3x3 = np.array(disk(1), dtype=np.int32)\n",
        "SE5_3x3[1, 1] = 0\n",
        "SE5_5x5 = np.array(disk(2), dtype=np.int32)\n",
        "SE5_5x5[(1, 2, 2, 2, 3), (2, 1, 2, 3, 3)] = 0\n",
        "\n",
        "# Square (Empty)\n",
        "SE7_3x3 = np.ones((3, 3), dtype=np.int32)\n",
        "SE7_3x3[1, 1] = 0\n",
        "SE7_5x5 = np.ones((5, 5), dtype=np.int32)\n",
        "SE7_5x5[1:4, 1:4] = 0\n",
        "\n",
        "# Line to right\n",
        "SE8_3x3 = np.zeros((3, 3), dtype=np.int32)\n",
        "SE8_3x3[:, 2] = 1\n",
        "SE8_5x5 = np.zeros((5, 5), dtype=np.int32)\n",
        "SE8_5x5[:, 4] = 1\n",
        "\n",
        "# Line to left\n",
        "SE9_3x3 = np.zeros((3, 3), dtype=np.int32)\n",
        "SE9_3x3[:, 0] = 1\n",
        "SE9_5x5 = np.zeros((5, 5), dtype=np.int32)\n",
        "SE9_5x5[:, 0] = 1\n",
        "\n",
        "# Line to Top\n",
        "SE10_3x3 = np.zeros((3, 3), dtype=np.int32)\n",
        "SE10_3x3[0, :] = 1\n",
        "SE10_5x5 = np.zeros((5, 5), dtype=np.int32)\n",
        "SE10_5x5[0, :] = 1\n",
        "\n",
        "# Line to Bottom\n",
        "SE11_3x3 = np.zeros((3, 3), dtype=np.int32)\n",
        "SE11_3x3[-1, :] = 1\n",
        "SE11_5x5 = np.zeros((5, 5), dtype=np.int32)\n",
        "SE11_5x5[-1, :] = 1\n",
        "\n",
        "list_se_3x3 = [SE3_3x3, SE4_3x3, SE5_3x3, SE7_3x3, SE8_3x3, SE9_3x3, SE10_3x3, SE11_3x3]\n",
        "\n",
        "\n",
        "def get_img(img, se_list):\n",
        "    list_se = ['SE1', 'SE2', 'SE3', 'SE4', 'SE5', 'SE6', 'SE7', 'SE8']\n",
        "    for se in se_list:\n",
        "        list_se_idx = list_se.index(se)\n",
        "        img = binary_dilation(img, list_se_3x3[list_se_idx])\n",
        "\n",
        "    for se in se_list:\n",
        "        list_se_idx = list_se.index(se)\n",
        "        img = binary_erosion(img, list_se_3x3[list_se_idx])\n",
        "\n",
        "    return img"
      ],
      "metadata": {
        "execution": {
          "iopub.status.busy": "2023-04-28T20:04:31.380131Z",
          "iopub.execute_input": "2023-04-28T20:04:31.380698Z",
          "iopub.status.idle": "2023-04-28T20:04:31.850186Z",
          "shell.execute_reply.started": "2023-04-28T20:04:31.380661Z",
          "shell.execute_reply": "2023-04-28T20:04:31.849351Z"
        },
        "trusted": true,
        "id": "0Mw_v-s6-ICk"
      },
      "execution_count": 35,
      "outputs": []
    },
    {
      "cell_type": "code",
      "source": [
        "path = r\"/content/gdrive/MyDrive/ML project/IPARC_ChallengeV2/Dataset/CatA_Simple/\"\n",
        "class_lst = [\n",
        "    \"SE8\",\n",
        "    \"SE4\",\n",
        "    \"SE6\",\n",
        "    \"SE7\",\n",
        "    \"SE5\",\n",
        "    \"SE2\",\n",
        "    \"SE3\",\n",
        "    \"SE1\",\n",
        "]\n",
        "class_mapping = {class_name: index for index, class_name in enumerate(class_lst)}\n",
        "\n",
        "\n",
        "def labels_to_indices(labels, class_mapping):\n",
        "    indices = [class_mapping[label] for label in labels]\n",
        "    return torch.tensor(indices, dtype=torch.long)\n",
        "\n",
        "\n",
        "def perform_ops(img, op, se):\n",
        "    return img\n",
        "\n",
        "\n",
        "class IPARC(Dataset):\n",
        "    def __init__(self, path, device=\"cpu\"):\n",
        "        self.path = path\n",
        "        self.device = device\n",
        "\n",
        "    def __getitem__(self, idx):\n",
        "        file_list = os.listdir(self.path)\n",
        "\n",
        "        txt_list = [x for x in file_list if x.endswith(\".txt\")]\n",
        "        json_list = [x for x in file_list if x.endswith(\".json\")]\n",
        "\n",
        "        with open(self.path + json_list[idx]) as f:\n",
        "            data = json.load(f)\n",
        "\n",
        "        with open(self.path + txt_list[idx], \"r\") as f:\n",
        "            label_list = [line.strip() for line in f.readlines()]\n",
        "\n",
        "        label_list = label_list[:4]\n",
        "        label_list = [x.split(\" \")[1] for x in label_list]\n",
        "        label_list = list(set([class_lst.index(x) for x in label_list]))\n",
        "        \n",
        "        arr = []\n",
        "        out = []\n",
        "\n",
        "        for i in data:\n",
        "            arr.append(i[\"input\"])\n",
        "            out.append(i[\"output\"])\n",
        "            \n",
        "        label = np.zeros((8))\n",
        "\n",
        "        arr = torch.tensor(np.array(arr)).float()\n",
        "        out = torch.tensor(np.array(out)).float()\n",
        "        labels = torch.tensor(np.array(label_list)).float()\n",
        "        input_image = torch.cat([arr, out], dim= 0)\n",
        "        \n",
        "        for i in label_list:\n",
        "            label[int(i)] = 1.\n",
        "\n",
        "        return input_image, torch.tensor(label).float()\n",
        "\n",
        "    def __len__(self):\n",
        "        return len(os.listdir(self.path)) // 2\n",
        "\n",
        "\n",
        "device = torch.device(\"cuda\" if torch.cuda.is_available() else \"cpu\")\n",
        "data = IPARC(path, device)\n",
        "train, val, test = torch.utils.data.random_split(\n",
        "    data, [int(len(data) * 0.8), int(len(data) * 0.1), int(len(data) * 0.1)]\n",
        ")\n",
        "train_loader = DataLoader(train, batch_size=10, shuffle=True)\n",
        "test_loader = DataLoader(test, batch_size=2, shuffle=True)\n",
        "val_loader = DataLoader(val, batch_size=2, shuffle=True)\n",
        "\n",
        "print(\"Dataset loaded.\")"
      ],
      "metadata": {
        "execution": {
          "iopub.status.busy": "2023-04-28T20:20:50.136948Z",
          "iopub.execute_input": "2023-04-28T20:20:50.137576Z",
          "iopub.status.idle": "2023-04-28T20:20:50.163511Z",
          "shell.execute_reply.started": "2023-04-28T20:20:50.137537Z",
          "shell.execute_reply": "2023-04-28T20:20:50.162261Z"
        },
        "trusted": true,
        "colab": {
          "base_uri": "https://localhost:8080/"
        },
        "id": "ZYQQCvEx-ICm",
        "outputId": "46817ea1-6312-4b1b-fff1-9fbfd1de41a8"
      },
      "execution_count": 36,
      "outputs": [
        {
          "output_type": "stream",
          "name": "stdout",
          "text": [
            "Dataset loaded.\n"
          ]
        }
      ]
    },
    {
      "cell_type": "code",
      "source": [
        "class SimpleCNN(nn.Module):\n",
        "    def __init__(self, num_classes=8):\n",
        "        super(SimpleCNN, self).__init__()\n",
        "\n",
        "        self.conv1 = nn.Sequential(\n",
        "            nn.Conv2d(8, 4, kernel_size=3, stride=1, padding=1),\n",
        "            nn.ReLU(),\n",
        "            nn.MaxPool2d(kernel_size=2, stride=2),\n",
        "        )\n",
        "        self.fc2 = nn.Sequential(nn.Linear(196, 16), nn.ReLU())\n",
        "        self.output = nn.Linear(16, num_classes)\n",
        "\n",
        "    def forward(self, x):\n",
        "        x = self.conv1(x)\n",
        "        x = x.view(x.size(0), -1)\n",
        "        x = self.fc2(x)\n",
        "        x = self.output(x)\n",
        "        return x\n",
        "\n",
        "\n",
        "num_classes = len(class_lst)\n",
        "model = SimpleCNN(num_classes)\n",
        "model.cuda()\n",
        "\n",
        "print(\"Model loaded.\")"
      ],
      "metadata": {
        "execution": {
          "iopub.status.busy": "2023-04-28T20:34:30.480777Z",
          "iopub.execute_input": "2023-04-28T20:34:30.481159Z",
          "iopub.status.idle": "2023-04-28T20:34:30.493595Z",
          "shell.execute_reply.started": "2023-04-28T20:34:30.481124Z",
          "shell.execute_reply": "2023-04-28T20:34:30.492112Z"
        },
        "trusted": true,
        "colab": {
          "base_uri": "https://localhost:8080/"
        },
        "id": "6tyQVbF8-ICp",
        "outputId": "b3bf4b1f-221c-4b9f-b3da-af97edc6f4e8"
      },
      "execution_count": 37,
      "outputs": [
        {
          "output_type": "stream",
          "name": "stdout",
          "text": [
            "Model loaded.\n"
          ]
        }
      ]
    },
    {
      "cell_type": "code",
      "source": [
        "model(torch.zeros(1, 8, 15, 15).cuda())"
      ],
      "metadata": {
        "execution": {
          "iopub.status.busy": "2023-04-28T20:34:30.776772Z",
          "iopub.execute_input": "2023-04-28T20:34:30.777526Z",
          "iopub.status.idle": "2023-04-28T20:34:30.789777Z",
          "shell.execute_reply.started": "2023-04-28T20:34:30.777451Z",
          "shell.execute_reply": "2023-04-28T20:34:30.788748Z"
        },
        "trusted": true,
        "colab": {
          "base_uri": "https://localhost:8080/"
        },
        "id": "HmZRicN2-ICq",
        "outputId": "f07aeb1c-cfe0-4d01-e88b-97028aeaa380"
      },
      "execution_count": 38,
      "outputs": [
        {
          "output_type": "execute_result",
          "data": {
            "text/plain": [
              "tensor([[-0.1567,  0.1833,  0.1251, -0.1413,  0.1073,  0.1056,  0.1984, -0.1630]],\n",
              "       device='cuda:0', grad_fn=<AddmmBackward0>)"
            ]
          },
          "metadata": {},
          "execution_count": 38
        }
      ]
    },
    {
      "cell_type": "code",
      "source": [
        "optimizer = optim.Adam(model.parameters(), lr=0.001, weight_decay= 1e-4)\n",
        "\n",
        "class LossIPARC(nn.Module):\n",
        "    def __init__(self):\n",
        "        super(LossIPARC, self).__init__()\n",
        "        self.ce = nn.CrossEntropyLoss().cuda()\n",
        "        # self.mse = nn.MSELoss()\n",
        "\n",
        "    def forward(self, input_, target):\n",
        "        \n",
        "        loss = self.ce(input_, target) + self.mse(input_, target)\n",
        "        \n",
        "        input_numpy, target_numpy = input_.clone(), target.clone()\n",
        "        \n",
        "        for i, j in zip(input_, target):\n",
        "            print(i)\n",
        "\n",
        "        return loss\n",
        "\n",
        "criterion_1 = LossIPARC()\n",
        "criterion = nn.CrossEntropyLoss().to(device)"
      ],
      "metadata": {
        "execution": {
          "iopub.status.busy": "2023-04-28T20:38:28.747159Z",
          "iopub.execute_input": "2023-04-28T20:38:28.748521Z",
          "iopub.status.idle": "2023-04-28T20:38:28.756737Z",
          "shell.execute_reply.started": "2023-04-28T20:38:28.748471Z",
          "shell.execute_reply": "2023-04-28T20:38:28.755445Z"
        },
        "trusted": true,
        "id": "gWoW6ORH-ICq"
      },
      "execution_count": 39,
      "outputs": []
    },
    {
      "cell_type": "code",
      "source": [
        "def train_and_evaluate(model, train_loader, test_loader, optimizer, criterion, device, epochs, log_interval):\n",
        "    history = {\n",
        "        \"train_loss\": [],\n",
        "        \"test_loss\": []\n",
        "    }\n",
        "\n",
        "    for epoch in range(epochs):\n",
        "        model.train()\n",
        "        running_loss = 0.0\n",
        "        train_loss = 0.0\n",
        "        for batch_idx, (input_image, labels) in enumerate(train_loader):\n",
        "            input_image, labels = input_image.to(device), labels.to(device)\n",
        "\n",
        "            optimizer.zero_grad()\n",
        "            output = model(input_image)\n",
        "\n",
        "            loss = criterion(output, labels)\n",
        "            loss.backward()\n",
        "            optimizer.step()\n",
        "\n",
        "            running_loss += loss.item()\n",
        "            train_loss += loss.item()\n",
        "\n",
        "            if (batch_idx + 1) % log_interval == 0:\n",
        "                print(\"Epoch [{}/{}], Step [{}/{}], Train Loss: {:.4f}\".format(\n",
        "                    epoch + 1, epochs, batch_idx + 1, len(train_loader), running_loss / log_interval))\n",
        "                running_loss = 0.0\n",
        "\n",
        "        history[\"train_loss\"].append(train_loss / len(train_loader))\n",
        "\n",
        "        model.eval()\n",
        "        test_loss = 0.0\n",
        "\n",
        "        with torch.no_grad():\n",
        "            for input_image, labels in test_loader:\n",
        "                input_image, labels = input_image.to(device), labels.to(device)\n",
        "\n",
        "                output = model(input_image)\n",
        "\n",
        "                loss = criterion(output, labels)\n",
        "                test_loss += loss.item()\n",
        "\n",
        "        history[\"test_loss\"].append(test_loss / len(test_loader))\n",
        "        print(\"Epoch [{}/{}], Test Loss: {:.4f}\".format(epoch + 1, epochs, test_loss / len(test_loader)))\n",
        "\n",
        "    return history"
      ],
      "metadata": {
        "execution": {
          "iopub.status.busy": "2023-04-28T20:34:31.201031Z",
          "iopub.execute_input": "2023-04-28T20:34:31.201719Z",
          "iopub.status.idle": "2023-04-28T20:34:31.216080Z",
          "shell.execute_reply.started": "2023-04-28T20:34:31.201665Z",
          "shell.execute_reply": "2023-04-28T20:34:31.214853Z"
        },
        "trusted": true,
        "id": "8j-meKOF-ICs"
      },
      "execution_count": 40,
      "outputs": []
    },
    {
      "cell_type": "code",
      "source": [
        "epochs, log_interval = 100, 100\n",
        "print(\"Starting training.\")\n",
        "history = train_and_evaluate(model, train_loader, test_loader, optimizer, criterion, device, epochs, log_interval)\n",
        "\n",
        "print(history)"
      ],
      "metadata": {
        "execution": {
          "iopub.status.busy": "2023-04-28T20:34:31.425585Z",
          "iopub.execute_input": "2023-04-28T20:34:31.426766Z",
          "iopub.status.idle": "2023-04-28T20:34:51.673312Z",
          "shell.execute_reply.started": "2023-04-28T20:34:31.426712Z",
          "shell.execute_reply": "2023-04-28T20:34:51.672169Z"
        },
        "trusted": true,
        "colab": {
          "base_uri": "https://localhost:8080/"
        },
        "id": "u-PMzzjh-ICt",
        "outputId": "8d11282e-22ec-48fb-c41b-a2a78af96992"
      },
      "execution_count": 41,
      "outputs": [
        {
          "output_type": "stream",
          "name": "stdout",
          "text": [
            "Starting training.\n",
            "Epoch [1/100], Test Loss: 7.0820\n",
            "Epoch [2/100], Test Loss: 7.0329\n",
            "Epoch [3/100], Test Loss: 6.9898\n",
            "Epoch [4/100], Test Loss: 6.9752\n",
            "Epoch [5/100], Test Loss: 6.9586\n",
            "Epoch [6/100], Test Loss: 6.9370\n",
            "Epoch [7/100], Test Loss: 6.9208\n",
            "Epoch [8/100], Test Loss: 6.9391\n",
            "Epoch [9/100], Test Loss: 6.9330\n",
            "Epoch [10/100], Test Loss: 6.9183\n",
            "Epoch [11/100], Test Loss: 6.9138\n",
            "Epoch [12/100], Test Loss: 6.9074\n",
            "Epoch [13/100], Test Loss: 6.9050\n",
            "Epoch [14/100], Test Loss: 6.8999\n",
            "Epoch [15/100], Test Loss: 6.9135\n",
            "Epoch [16/100], Test Loss: 6.9117\n",
            "Epoch [17/100], Test Loss: 6.9152\n",
            "Epoch [18/100], Test Loss: 6.9436\n",
            "Epoch [19/100], Test Loss: 6.9634\n",
            "Epoch [20/100], Test Loss: 6.9658\n",
            "Epoch [21/100], Test Loss: 6.9968\n",
            "Epoch [22/100], Test Loss: 7.0562\n",
            "Epoch [23/100], Test Loss: 7.0688\n",
            "Epoch [24/100], Test Loss: 7.0918\n",
            "Epoch [25/100], Test Loss: 7.1650\n",
            "Epoch [26/100], Test Loss: 7.1781\n",
            "Epoch [27/100], Test Loss: 7.2276\n",
            "Epoch [28/100], Test Loss: 7.2619\n",
            "Epoch [29/100], Test Loss: 7.3515\n",
            "Epoch [30/100], Test Loss: 7.3430\n",
            "Epoch [31/100], Test Loss: 7.3921\n",
            "Epoch [32/100], Test Loss: 7.4574\n",
            "Epoch [33/100], Test Loss: 7.4308\n",
            "Epoch [34/100], Test Loss: 7.6095\n",
            "Epoch [35/100], Test Loss: 7.5322\n",
            "Epoch [36/100], Test Loss: 7.6349\n",
            "Epoch [37/100], Test Loss: 7.7097\n",
            "Epoch [38/100], Test Loss: 7.6900\n",
            "Epoch [39/100], Test Loss: 7.7816\n",
            "Epoch [40/100], Test Loss: 7.8064\n",
            "Epoch [41/100], Test Loss: 7.8803\n",
            "Epoch [42/100], Test Loss: 7.9363\n",
            "Epoch [43/100], Test Loss: 7.9709\n",
            "Epoch [44/100], Test Loss: 8.0513\n",
            "Epoch [45/100], Test Loss: 8.0855\n",
            "Epoch [46/100], Test Loss: 8.2119\n",
            "Epoch [47/100], Test Loss: 8.1860\n",
            "Epoch [48/100], Test Loss: 8.2265\n",
            "Epoch [49/100], Test Loss: 8.3726\n",
            "Epoch [50/100], Test Loss: 8.3148\n",
            "Epoch [51/100], Test Loss: 8.4526\n",
            "Epoch [52/100], Test Loss: 8.5343\n",
            "Epoch [53/100], Test Loss: 8.5248\n",
            "Epoch [54/100], Test Loss: 8.6805\n",
            "Epoch [55/100], Test Loss: 8.7099\n",
            "Epoch [56/100], Test Loss: 8.8162\n",
            "Epoch [57/100], Test Loss: 8.7639\n",
            "Epoch [58/100], Test Loss: 8.9040\n",
            "Epoch [59/100], Test Loss: 9.0507\n",
            "Epoch [60/100], Test Loss: 9.0588\n",
            "Epoch [61/100], Test Loss: 9.1452\n",
            "Epoch [62/100], Test Loss: 9.1339\n",
            "Epoch [63/100], Test Loss: 9.2415\n",
            "Epoch [64/100], Test Loss: 9.3393\n",
            "Epoch [65/100], Test Loss: 9.4458\n",
            "Epoch [66/100], Test Loss: 9.5201\n",
            "Epoch [67/100], Test Loss: 9.5415\n",
            "Epoch [68/100], Test Loss: 9.8102\n",
            "Epoch [69/100], Test Loss: 9.6696\n",
            "Epoch [70/100], Test Loss: 9.8257\n",
            "Epoch [71/100], Test Loss: 9.9985\n",
            "Epoch [72/100], Test Loss: 9.9330\n",
            "Epoch [73/100], Test Loss: 10.1405\n",
            "Epoch [74/100], Test Loss: 10.2084\n",
            "Epoch [75/100], Test Loss: 10.1808\n",
            "Epoch [76/100], Test Loss: 10.3874\n",
            "Epoch [77/100], Test Loss: 10.4195\n",
            "Epoch [78/100], Test Loss: 10.5811\n",
            "Epoch [79/100], Test Loss: 10.5891\n",
            "Epoch [80/100], Test Loss: 10.7658\n",
            "Epoch [81/100], Test Loss: 10.8448\n",
            "Epoch [82/100], Test Loss: 10.9269\n",
            "Epoch [83/100], Test Loss: 11.1917\n",
            "Epoch [84/100], Test Loss: 11.0788\n",
            "Epoch [85/100], Test Loss: 11.1599\n",
            "Epoch [86/100], Test Loss: 11.4959\n",
            "Epoch [87/100], Test Loss: 11.3986\n",
            "Epoch [88/100], Test Loss: 11.5758\n",
            "Epoch [89/100], Test Loss: 11.8666\n",
            "Epoch [90/100], Test Loss: 11.7433\n",
            "Epoch [91/100], Test Loss: 12.0376\n",
            "Epoch [92/100], Test Loss: 12.1558\n",
            "Epoch [93/100], Test Loss: 12.1340\n",
            "Epoch [94/100], Test Loss: 12.3298\n",
            "Epoch [95/100], Test Loss: 12.5715\n",
            "Epoch [96/100], Test Loss: 12.2943\n",
            "Epoch [97/100], Test Loss: 12.5516\n",
            "Epoch [98/100], Test Loss: 12.8661\n",
            "Epoch [99/100], Test Loss: 12.6487\n",
            "Epoch [100/100], Test Loss: 13.0153\n",
            "{'train_loss': [7.22559916973114, 7.153519809246063, 7.120490908622742, 7.088736712932587, 7.0682671666145325, 7.045591473579407, 7.020268559455872, 6.998238146305084, 6.971766114234924, 6.941826403141022, 6.91350257396698, 6.8816792368888855, 6.844998002052307, 6.813095211982727, 6.778234958648682, 6.738516807556152, 6.700074315071106, 6.650246202945709, 6.606712341308594, 6.5686070919036865, 6.518071413040161, 6.4705705642700195, 6.433973491191864, 6.383241236209869, 6.3458393812179565, 6.295017659664154, 6.245283663272858, 6.202576696872711, 6.166461825370789, 6.1239431500434875, 6.076108336448669, 6.040704011917114, 6.0206058621406555, 5.981314659118652, 5.940533339977264, 5.894968748092651, 5.857281684875488, 5.834685266017914, 5.781496703624725, 5.753630816936493, 5.714154958724976, 5.678310751914978, 5.639456391334534, 5.601835072040558, 5.576100707054138, 5.544458389282227, 5.525501370429993, 5.488010764122009, 5.457389652729034, 5.433073043823242, 5.392930746078491, 5.376000285148621, 5.370944797992706, 5.336924195289612, 5.299320578575134, 5.265941560268402, 5.240848869085312, 5.208694398403168, 5.194870948791504, 5.183342397212982, 5.164530575275421, 5.1550681591033936, 5.105364203453064, 5.085183322429657, 5.069544017314911, 5.054113030433655, 5.02822071313858, 5.008750736713409, 4.988306879997253, 4.981995344161987, 4.974004507064819, 4.9465203285217285, 4.902864456176758, 4.886411011219025, 4.867416620254517, 4.857038259506226, 4.833379685878754, 4.825461208820343, 4.817420423030853, 4.793916285037994, 4.77647465467453, 4.75707083940506, 4.750431478023529, 4.742709040641785, 4.722087740898132, 4.704982101917267, 4.693983644247055, 4.6897982358932495, 4.671050995588303, 4.66011244058609, 4.643034040927887, 4.63097208738327, 4.632592797279358, 4.614272117614746, 4.600669115781784, 4.602634280920029, 4.597587496042252, 4.590770214796066, 4.584199219942093, 4.567563146352768], 'test_loss': [7.082007980346679, 7.032884025573731, 6.9897668838500975, 6.975238513946533, 6.958626556396484, 6.937037181854248, 6.920821857452393, 6.93905200958252, 6.933024883270264, 6.918302154541015, 6.913754844665528, 6.907442378997803, 6.905021381378174, 6.8998918533325195, 6.913522148132325, 6.91172685623169, 6.915158081054687, 6.94358491897583, 6.963430786132813, 6.9658050537109375, 6.996754837036133, 7.056216049194336, 7.068774890899658, 7.091846466064453, 7.1649580001831055, 7.178086757659912, 7.227597713470459, 7.261917400360107, 7.351461124420166, 7.3429844856262205, 7.392072772979736, 7.457363224029541, 7.430779266357422, 7.609519004821777, 7.532197570800781, 7.634882926940918, 7.709666538238525, 7.689993190765381, 7.781593227386475, 7.806449508666992, 7.880336666107178, 7.936287307739258, 7.970943832397461, 8.051297283172607, 8.085468864440918, 8.211859035491944, 8.185966300964356, 8.226479721069335, 8.372628307342529, 8.314793014526368, 8.452603149414063, 8.534337425231934, 8.52477855682373, 8.680451393127441, 8.709949398040772, 8.816158294677734, 8.76393165588379, 8.904019451141357, 9.050718879699707, 9.058838272094727, 9.14516830444336, 9.133934783935548, 9.241543769836426, 9.339310264587402, 9.44576187133789, 9.520134258270264, 9.541540908813477, 9.810200500488282, 9.669577980041504, 9.825683403015137, 9.998538970947266, 9.933002758026124, 10.140500259399413, 10.208386421203613, 10.180801010131836, 10.387445831298828, 10.4195125579834, 10.581079769134522, 10.589143180847168, 10.765775108337403, 10.844814109802247, 10.926894664764404, 11.191726875305175, 11.078849029541015, 11.159900665283203, 11.495856094360352, 11.398633766174317, 11.575780296325684, 11.866555976867676, 11.74332504272461, 12.037633514404297, 12.155804443359376, 12.133952713012695, 12.32975368499756, 12.571471786499023, 12.294281387329102, 12.551586532592774, 12.86614818572998, 12.648732948303223, 13.015283393859864]}\n"
          ]
        }
      ]
    },
    {
      "cell_type": "code",
      "source": [
        "# Test Model\n",
        "\n",
        "input_img, label = val[6]\n",
        "output = model(input_img.unsqueeze(0).cuda()).squeeze(0)\n",
        "\n",
        "# criterion_1(output, label)\n",
        "output = list(output.detach().cpu().numpy())\n",
        "label = list(label.detach().cpu().numpy())\n",
        "out_fns, label_fns = [], []\n",
        "\n",
        "for i, x in enumerate(output):\n",
        "    if x > 1:\n",
        "        out_fns.append(class_lst[i])\n",
        "for i, x in enumerate(label):\n",
        "    if x == 1:\n",
        "        label_fns.append(class_lst[i])\n",
        "        \n",
        "out_fns, label_fns"
      ],
      "metadata": {
        "execution": {
          "iopub.status.busy": "2023-04-28T20:47:50.677288Z",
          "iopub.execute_input": "2023-04-28T20:47:50.678264Z",
          "iopub.status.idle": "2023-04-28T20:47:50.694405Z",
          "shell.execute_reply.started": "2023-04-28T20:47:50.678221Z",
          "shell.execute_reply": "2023-04-28T20:47:50.693290Z"
        },
        "trusted": true,
        "colab": {
          "base_uri": "https://localhost:8080/"
        },
        "id": "i2ixsRI6-ICu",
        "outputId": "12202b69-5029-4557-e6af-91e2938f0233"
      },
      "execution_count": 52,
      "outputs": [
        {
          "output_type": "execute_result",
          "data": {
            "text/plain": [
              "(['SE8', 'SE5', 'SE1'], ['SE6', 'SE5', 'SE2', 'SE1'])"
            ]
          },
          "metadata": {},
          "execution_count": 52
        }
      ]
    },
    {
      "cell_type": "code",
      "source": [],
      "metadata": {
        "execution": {
          "iopub.status.busy": "2023-04-28T20:49:24.177555Z",
          "iopub.execute_input": "2023-04-28T20:49:24.178395Z",
          "iopub.status.idle": "2023-04-28T20:49:24.183551Z",
          "shell.execute_reply.started": "2023-04-28T20:49:24.178358Z",
          "shell.execute_reply": "2023-04-28T20:49:24.182266Z"
        },
        "trusted": true,
        "id": "ex-p4A8k-ICw"
      },
      "execution_count": 32,
      "outputs": []
    },
    {
      "cell_type": "code",
      "source": [],
      "metadata": {
        "id": "4dnl6sFf-ICx"
      },
      "execution_count": 32,
      "outputs": []
    },
    {
      "cell_type": "code",
      "source": [],
      "metadata": {
        "id": "eo9hkX1q_hTu"
      },
      "execution_count": 12,
      "outputs": []
    }
  ]
}